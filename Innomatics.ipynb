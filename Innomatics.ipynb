{
  "nbformat": 4,
  "nbformat_minor": 0,
  "metadata": {
    "colab": {
      "provenance": []
    },
    "kernelspec": {
      "name": "python3",
      "display_name": "Python 3"
    },
    "language_info": {
      "name": "python"
    }
  },
  "cells": [
    {
      "cell_type": "code",
      "source": [
        "# Step 1: Upload and Extract ZIP File\n",
        "from google.colab import files\n",
        "import zipfile\n",
        "import os\n",
        "\n",
        "# Upload the zip file\n",
        "uploaded = files.upload()\n",
        "\n",
        "# Assuming the file is named 'DATASET.zip', change the name if necessary\n",
        "zip_file_path = 'DATASET.zip'\n",
        "extract_folder = '/content/Property_data/'\n",
        "\n",
        "# Extract the zip file\n",
        "with zipfile.ZipFile(zip_file_path, 'r') as zip_ref:\n",
        "    zip_ref.extractall(extract_folder)\n",
        "\n",
        "# Step 2: Read and Merge All CSV Files with Correct Encoding\n",
        "import pandas as pd\n",
        "\n",
        "# List all files in the extracted folder\n",
        "folder_path = os.path.join(extract_folder, 'Property_data')\n",
        "csv_files = [f for f in os.listdir(folder_path) if f.endswith('.csv')]\n",
        "\n",
        "# Initialize an empty list to store DataFrames\n",
        "dataframes = []\n",
        "\n",
        "# Read each CSV file with the 'ISO-8859-1' encoding and append it to the list\n",
        "for file in csv_files:\n",
        "    df = pd.read_csv(os.path.join(folder_path, file), encoding='ISO-8859-1')\n",
        "    dataframes.append(df)\n",
        "\n",
        "# Merge all the DataFrames into one final DataFrame\n",
        "merged_data = pd.concat(dataframes, ignore_index=True)\n",
        "\n",
        "# Step 3: Clean the Data (Handle invalid columns, missing values, etc.)\n",
        "# Drop unwanted columns (like empty or corrupt columns)\n",
        "merged_data = merged_data.loc[:, ~merged_data.columns.str.contains('ÿþ', na=False)]\n",
        "\n",
        "# Step 4: Check the final shape of the merged data\n",
        "print(f\"Final shape of the combined property data: {merged_data.shape}\")\n"
      ],
      "metadata": {
        "colab": {
          "base_uri": "https://localhost:8080/",
          "height": 92
        },
        "id": "YLURsCxG5yEs",
        "outputId": "646fa960-0e22-4ef7-d72d-28cbe5b61c4a"
      },
      "execution_count": 2,
      "outputs": [
        {
          "output_type": "display_data",
          "data": {
            "text/plain": [
              "<IPython.core.display.HTML object>"
            ],
            "text/html": [
              "\n",
              "     <input type=\"file\" id=\"files-51b46bd5-d722-4877-ad15-5eb631f9b5ab\" name=\"files[]\" multiple disabled\n",
              "        style=\"border:none\" />\n",
              "     <output id=\"result-51b46bd5-d722-4877-ad15-5eb631f9b5ab\">\n",
              "      Upload widget is only available when the cell has been executed in the\n",
              "      current browser session. Please rerun this cell to enable.\n",
              "      </output>\n",
              "      <script>// Copyright 2017 Google LLC\n",
              "//\n",
              "// Licensed under the Apache License, Version 2.0 (the \"License\");\n",
              "// you may not use this file except in compliance with the License.\n",
              "// You may obtain a copy of the License at\n",
              "//\n",
              "//      http://www.apache.org/licenses/LICENSE-2.0\n",
              "//\n",
              "// Unless required by applicable law or agreed to in writing, software\n",
              "// distributed under the License is distributed on an \"AS IS\" BASIS,\n",
              "// WITHOUT WARRANTIES OR CONDITIONS OF ANY KIND, either express or implied.\n",
              "// See the License for the specific language governing permissions and\n",
              "// limitations under the License.\n",
              "\n",
              "/**\n",
              " * @fileoverview Helpers for google.colab Python module.\n",
              " */\n",
              "(function(scope) {\n",
              "function span(text, styleAttributes = {}) {\n",
              "  const element = document.createElement('span');\n",
              "  element.textContent = text;\n",
              "  for (const key of Object.keys(styleAttributes)) {\n",
              "    element.style[key] = styleAttributes[key];\n",
              "  }\n",
              "  return element;\n",
              "}\n",
              "\n",
              "// Max number of bytes which will be uploaded at a time.\n",
              "const MAX_PAYLOAD_SIZE = 100 * 1024;\n",
              "\n",
              "function _uploadFiles(inputId, outputId) {\n",
              "  const steps = uploadFilesStep(inputId, outputId);\n",
              "  const outputElement = document.getElementById(outputId);\n",
              "  // Cache steps on the outputElement to make it available for the next call\n",
              "  // to uploadFilesContinue from Python.\n",
              "  outputElement.steps = steps;\n",
              "\n",
              "  return _uploadFilesContinue(outputId);\n",
              "}\n",
              "\n",
              "// This is roughly an async generator (not supported in the browser yet),\n",
              "// where there are multiple asynchronous steps and the Python side is going\n",
              "// to poll for completion of each step.\n",
              "// This uses a Promise to block the python side on completion of each step,\n",
              "// then passes the result of the previous step as the input to the next step.\n",
              "function _uploadFilesContinue(outputId) {\n",
              "  const outputElement = document.getElementById(outputId);\n",
              "  const steps = outputElement.steps;\n",
              "\n",
              "  const next = steps.next(outputElement.lastPromiseValue);\n",
              "  return Promise.resolve(next.value.promise).then((value) => {\n",
              "    // Cache the last promise value to make it available to the next\n",
              "    // step of the generator.\n",
              "    outputElement.lastPromiseValue = value;\n",
              "    return next.value.response;\n",
              "  });\n",
              "}\n",
              "\n",
              "/**\n",
              " * Generator function which is called between each async step of the upload\n",
              " * process.\n",
              " * @param {string} inputId Element ID of the input file picker element.\n",
              " * @param {string} outputId Element ID of the output display.\n",
              " * @return {!Iterable<!Object>} Iterable of next steps.\n",
              " */\n",
              "function* uploadFilesStep(inputId, outputId) {\n",
              "  const inputElement = document.getElementById(inputId);\n",
              "  inputElement.disabled = false;\n",
              "\n",
              "  const outputElement = document.getElementById(outputId);\n",
              "  outputElement.innerHTML = '';\n",
              "\n",
              "  const pickedPromise = new Promise((resolve) => {\n",
              "    inputElement.addEventListener('change', (e) => {\n",
              "      resolve(e.target.files);\n",
              "    });\n",
              "  });\n",
              "\n",
              "  const cancel = document.createElement('button');\n",
              "  inputElement.parentElement.appendChild(cancel);\n",
              "  cancel.textContent = 'Cancel upload';\n",
              "  const cancelPromise = new Promise((resolve) => {\n",
              "    cancel.onclick = () => {\n",
              "      resolve(null);\n",
              "    };\n",
              "  });\n",
              "\n",
              "  // Wait for the user to pick the files.\n",
              "  const files = yield {\n",
              "    promise: Promise.race([pickedPromise, cancelPromise]),\n",
              "    response: {\n",
              "      action: 'starting',\n",
              "    }\n",
              "  };\n",
              "\n",
              "  cancel.remove();\n",
              "\n",
              "  // Disable the input element since further picks are not allowed.\n",
              "  inputElement.disabled = true;\n",
              "\n",
              "  if (!files) {\n",
              "    return {\n",
              "      response: {\n",
              "        action: 'complete',\n",
              "      }\n",
              "    };\n",
              "  }\n",
              "\n",
              "  for (const file of files) {\n",
              "    const li = document.createElement('li');\n",
              "    li.append(span(file.name, {fontWeight: 'bold'}));\n",
              "    li.append(span(\n",
              "        `(${file.type || 'n/a'}) - ${file.size} bytes, ` +\n",
              "        `last modified: ${\n",
              "            file.lastModifiedDate ? file.lastModifiedDate.toLocaleDateString() :\n",
              "                                    'n/a'} - `));\n",
              "    const percent = span('0% done');\n",
              "    li.appendChild(percent);\n",
              "\n",
              "    outputElement.appendChild(li);\n",
              "\n",
              "    const fileDataPromise = new Promise((resolve) => {\n",
              "      const reader = new FileReader();\n",
              "      reader.onload = (e) => {\n",
              "        resolve(e.target.result);\n",
              "      };\n",
              "      reader.readAsArrayBuffer(file);\n",
              "    });\n",
              "    // Wait for the data to be ready.\n",
              "    let fileData = yield {\n",
              "      promise: fileDataPromise,\n",
              "      response: {\n",
              "        action: 'continue',\n",
              "      }\n",
              "    };\n",
              "\n",
              "    // Use a chunked sending to avoid message size limits. See b/62115660.\n",
              "    let position = 0;\n",
              "    do {\n",
              "      const length = Math.min(fileData.byteLength - position, MAX_PAYLOAD_SIZE);\n",
              "      const chunk = new Uint8Array(fileData, position, length);\n",
              "      position += length;\n",
              "\n",
              "      const base64 = btoa(String.fromCharCode.apply(null, chunk));\n",
              "      yield {\n",
              "        response: {\n",
              "          action: 'append',\n",
              "          file: file.name,\n",
              "          data: base64,\n",
              "        },\n",
              "      };\n",
              "\n",
              "      let percentDone = fileData.byteLength === 0 ?\n",
              "          100 :\n",
              "          Math.round((position / fileData.byteLength) * 100);\n",
              "      percent.textContent = `${percentDone}% done`;\n",
              "\n",
              "    } while (position < fileData.byteLength);\n",
              "  }\n",
              "\n",
              "  // All done.\n",
              "  yield {\n",
              "    response: {\n",
              "      action: 'complete',\n",
              "    }\n",
              "  };\n",
              "}\n",
              "\n",
              "scope.google = scope.google || {};\n",
              "scope.google.colab = scope.google.colab || {};\n",
              "scope.google.colab._files = {\n",
              "  _uploadFiles,\n",
              "  _uploadFilesContinue,\n",
              "};\n",
              "})(self);\n",
              "</script> "
            ]
          },
          "metadata": {}
        },
        {
          "output_type": "stream",
          "name": "stdout",
          "text": [
            "Saving DATASET.zip to DATASET (1).zip\n",
            "Final shape of the combined property data: (14532, 23)\n"
          ]
        }
      ]
    },
    {
      "cell_type": "code",
      "source": [
        "import zipfile\n",
        "import os\n",
        "import pandas as pd\n",
        "\n",
        "# Unzip the dataset\n",
        "with zipfile.ZipFile('DATASET.zip', 'r') as zip_ref:\n",
        "    zip_ref.extractall(\"DATASET\")\n",
        "\n",
        "# List the contents of the extracted folder to find CSV files\n",
        "extracted_files = os.listdir(\"DATASET\")\n",
        "print(\"Extracted Files:\", extracted_files)\n",
        "\n",
        "# Specify the folder containing CSV files you want to merge\n",
        "folder_path = 'DATASET/Property_data'\n",
        "\n",
        "# List all CSV files in the folder\n",
        "csv_files = [file for file in os.listdir(folder_path) if file.endswith('.csv')]\n",
        "\n",
        "# Initialize an empty list to store DataFrames\n",
        "dataframes = []\n",
        "\n",
        "# Read each CSV file and append it to the list\n",
        "for file in csv_files:\n",
        "    df = pd.read_csv(os.path.join(folder_path, file), encoding='ISO-8859-1')  # Using ISO-8859-1 to handle encoding errors\n",
        "    dataframes.append(df)\n",
        "\n",
        "# Merge all the DataFrames into one final DataFrame\n",
        "merged_data = pd.concat(dataframes, ignore_index=True)\n",
        "\n",
        "# Step 3: Clean the Data (Handle invalid columns, missing values, etc.)\n",
        "# Drop unwanted columns (like empty or corrupt columns)\n",
        "merged_data = merged_data.loc[:, ~merged_data.columns.str.contains('ÿþ', na=False)]\n",
        "\n",
        "# Clean any unnecessary columns\n",
        "merged_data_cleaned = merged_data.dropna(axis=1, how='all')\n",
        "\n",
        "# Display the final shape of the cleaned merged data\n",
        "print(f\"Final shape of the combined property data: {merged_data_cleaned.shape}\")\n"
      ],
      "metadata": {
        "colab": {
          "base_uri": "https://localhost:8080/"
        },
        "id": "wUJYZzGl-SkJ",
        "outputId": "8de91f4f-8e9b-4292-cd91-0da001d3cedf"
      },
      "execution_count": 7,
      "outputs": [
        {
          "output_type": "stream",
          "name": "stdout",
          "text": [
            "Extracted Files: ['property_interactions.csv', 'Property_data', 'property_photos.tsv']\n",
            "Final shape of the combined property data: (14532, 23)\n"
          ]
        }
      ]
    },
    {
      "cell_type": "code",
      "source": [
        "hsr_layout_percentage = (property_data[property_data['locality'] == 'HSR Layout'].shape[0] / property_data.shape[0]) * 100\n",
        "print(f\"Percentage of properties in HSR Layout: {round(hsr_layout_percentage)}%\")\n"
      ],
      "metadata": {
        "id": "4XERqTxk_bUH"
      },
      "execution_count": null,
      "outputs": []
    },
    {
      "cell_type": "code",
      "source": [
        "# Task 3: Number of unique locations\n",
        "unique_locations = property_data['locality'].nunique()\n",
        "print(f\"Number of unique locations: {unique_locations}\")\n"
      ],
      "metadata": {
        "id": "xql9FDc__ojz"
      },
      "execution_count": null,
      "outputs": []
    },
    {
      "cell_type": "code",
      "source": [
        "# Task 4: Locality with highest average rent\n",
        "highest_avg_rent_locality = property_data.groupby('locality')['rent'].mean().idxmax()\n",
        "print(f\"Locality with highest average rent: {highest_avg_rent_locality}\")\n"
      ],
      "metadata": {
        "id": "Co-FJloV_6WB"
      },
      "execution_count": null,
      "outputs": []
    },
    {
      "cell_type": "code",
      "source": [
        "# Task 5: Feature with highest correlation with rent\n",
        "correlation_with_rent = property_data.corr()['rent'].drop('rent')\n",
        "highest_corr_feature = correlation_with_rent.idxmax()\n",
        "print(f\"Feature with highest correlation with rent: {highest_corr_feature}\")\n"
      ],
      "metadata": {
        "id": "lwgCxRjVADhQ"
      },
      "execution_count": null,
      "outputs": []
    },
    {
      "cell_type": "code",
      "source": [
        "import pandas as pd\n",
        "\n",
        "# Assuming interaction_data and property_data are already loaded\n",
        "interaction_data = pd.read_csv('interaction_data.csv')\n",
        "property_data['activation_date'] = pd.to_datetime(property_data['activation_date'])\n",
        "interaction_data['request_date'] = pd.to_datetime(interaction_data['request_date'])\n",
        "\n",
        "# Merge interaction data with property data\n",
        "merged_data = pd.merge(interaction_data, property_data, on='property_id')\n",
        "\n",
        "# Filter interactions that happened within 7 days of activation\n",
        "merged_data['interaction_within_7_days'] = (merged_data['request_date'] - merged_data['activation_date']).dt.days <= 7\n",
        "interaction_counts_within_7 = merged_data.groupby('property_id')['interaction_within_7_days'].sum()\n",
        "\n",
        "# Most common interaction count\n",
        "most_common_interaction_count = interaction_counts_within_7.value_counts().idxmax()\n",
        "print(f\"Total number of interactions received by the majority of the properties within 7 days of activation: {most_common_interaction_count}\")\n"
      ],
      "metadata": {
        "id": "b9npw1iKAEBp"
      },
      "execution_count": null,
      "outputs": []
    },
    {
      "cell_type": "code",
      "source": [
        "import pandas as pd\n",
        "\n",
        "# Task 7: Create property_age_category and find most frequent category\n",
        "property_data['property_age_category'] = pd.cut(property_data['property_age'],\n",
        "    bins=[0, 1, 5, 10, 20, np.inf],\n",
        "    labels=['New', 'Less than 5 years', '5 to 10 years', '10 to 20 years', 'More than 20 years'])\n",
        "\n",
        "most_frequent_age_category = property_data['property_age_category'].mode()[0]\n",
        "print(f\"Most frequent property age category: {most_frequent_age_category}\")\n"
      ],
      "metadata": {
        "id": "47L0urCQAGzE"
      },
      "execution_count": null,
      "outputs": []
    },
    {
      "cell_type": "code",
      "source": [
        "# Task 8: Apartment type with the highest average interactions\n",
        "avg_interactions_by_type = merged_data.groupby('type')['request_date'].count()\n",
        "highest_interactions_apartment_type = avg_interactions_by_type.idxmax()\n",
        "print(f\"Apartment type with highest average interactions: {highest_interactions_apartment_type}\")\n"
      ],
      "metadata": {
        "id": "ufcf_zKrAItW"
      },
      "execution_count": null,
      "outputs": []
    },
    {
      "cell_type": "code",
      "source": [
        "# Task 9: Amenity with the greatest impact on rent\n",
        "amenities = ['gym', 'lift', 'swimming_pool']\n",
        "amenity_impact = {amenity: property_data.groupby(amenity)['rent'].mean().mean() for amenity in amenities}\n",
        "max_impact_amenity = max(amenity_impact, key=amenity_impact.get)\n",
        "print(f\"Amenity with greatest impact on rent: {max_impact_amenity}\")\n"
      ],
      "metadata": {
        "id": "BGQR45EqAJ7F"
      },
      "execution_count": null,
      "outputs": []
    },
    {
      "cell_type": "code",
      "source": [
        "# Task 10: Highest interaction counts in top 5 localities with highest average rent\n",
        "top_5_localities = property_data.groupby('locality')['rent'].mean().nlargest(5).index\n",
        "top_5_locality_data = merged_data[merged_data['locality'].isin(top_5_localities)]\n",
        "highest_interaction_locality = top_5_locality_data.groupby('locality')['request_date'].count().idxmax()\n",
        "print(f\"Highest interaction counts for properties in top 5 localities: {highest_interaction_locality}\")\n"
      ],
      "metadata": {
        "id": "t2AxwyWbALYt"
      },
      "execution_count": null,
      "outputs": []
    },
    {
      "cell_type": "code",
      "source": [
        "# Task 11: Photo count of the property with highest interactions\n",
        "photo_data = pd.read_csv('photo_data.csv')\n",
        "\n",
        "# Clean the photo_urls column to count photos\n",
        "photo_data['photo_count'] = photo_data['photo_urls'].apply(lambda x: len(eval(x)) if pd.notna(x) else 0)\n",
        "merged_data_with_photos = pd.merge(merged_data, photo_data[['property_id', 'photo_count']], on='property_id')\n",
        "\n",
        "# Find the property with highest interactions\n",
        "most_interactions_property = merged_data_with_photos.groupby('property_id')['request_date'].count().idxmax()\n",
        "photo_count_of_most_interacted_property = merged_data_with_photos[merged_data_with_photos['property_id'] == most_interactions_property]['photo_count'].iloc[0]\n",
        "print(f\"Photo count of the property with highest interactions: {photo_count_of_most_interacted_property}\")\n"
      ],
      "metadata": {
        "id": "7Tb7x9YEAMer"
      },
      "execution_count": null,
      "outputs": []
    },
    {
      "cell_type": "code",
      "source": [
        "from scipy import stats\n",
        "\n",
        "# Task 12: Hypothesis test for properties with and without gym\n",
        "properties_with_gym = merged_data[merged_data['gym'] == 1]\n",
        "properties_without_gym = merged_data[merged_data['gym'] == 0]\n",
        "\n",
        "# Perform t-test\n",
        "t_stat, p_value = stats.ttest_ind(properties_with_gym['request_date'], properties_without_gym['request_date'], equal_var=False)\n",
        "if p_value < 0.05:\n",
        "    print(\"Reject the null hypothesis\")\n",
        "else:\n",
        "    print(\"Failed to reject the null hypothesis\")\n"
      ],
      "metadata": {
        "id": "lKxedt27AO23"
      },
      "execution_count": null,
      "outputs": []
    },
    {
      "cell_type": "code",
      "source": [
        "# Task 13: Create time_category column\n",
        "merged_data['hour'] = merged_data['request_date'].dt.hour\n",
        "merged_data['time_category'] = pd.cut(merged_data['hour'],\n",
        "                                      bins=[0, 5, 11, 17, 23],\n",
        "                                      labels=['Midnight', 'Morning', 'Afternoon', 'Evening'])\n",
        "\n",
        "most_frequent_time_category = merged_data['time_category'].mode()[0]\n",
        "print(f\"Most frequent time category: {most_frequent_time_category}\")\n"
      ],
      "metadata": {
        "id": "P8rKNTVzAQbz"
      },
      "execution_count": null,
      "outputs": []
    },
    {
      "cell_type": "code",
      "source": [
        "# Task 14: Most properties activated on the platform for listing\n",
        "activation_counts = property_data['activation_date'].value_counts()\n",
        "most_activated_date = activation_counts.idxmax()\n",
        "print(f\"Most properties activated on the platform: {most_activated_date}\")\n"
      ],
      "metadata": {
        "id": "rNOJA5syAR2b"
      },
      "execution_count": null,
      "outputs": []
    },
    {
      "cell_type": "code",
      "source": [
        "# Task 15: Percentage of properties under 'Anyone' lease type\n",
        "percentage_anyone_lease = (property_data[property_data['lease_type'] == 'Anyone'].shape[0] / property_data.shape[0]) * 100\n",
        "print(f\"Percentage of properties available for lease under 'Anyone' category: {round(percentage_anyone_lease)}%\")\n"
      ],
      "metadata": {
        "id": "C9RuBSrCATN3"
      },
      "execution_count": null,
      "outputs": []
    },
    {
      "cell_type": "code",
      "source": [],
      "metadata": {
        "id": "5YvJTmkIAU4D"
      },
      "execution_count": null,
      "outputs": []
    }
  ]
}